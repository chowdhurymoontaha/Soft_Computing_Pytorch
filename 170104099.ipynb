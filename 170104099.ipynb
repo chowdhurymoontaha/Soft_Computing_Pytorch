{
  "nbformat": 4,
  "nbformat_minor": 0,
  "metadata": {
    "colab": {
      "name": "170104099.ipynb",
      "provenance": [],
      "collapsed_sections": [],
      "authorship_tag": "ABX9TyMtkITEUvozcZqyJ/FcDEGn",
      "include_colab_link": true
    },
    "kernelspec": {
      "name": "python3",
      "display_name": "Python 3"
    },
    "language_info": {
      "name": "python"
    },
    "accelerator": "GPU"
  },
  "cells": [
    {
      "cell_type": "markdown",
      "metadata": {
        "id": "view-in-github",
        "colab_type": "text"
      },
      "source": [
        "<a href=\"https://colab.research.google.com/github/chowdhurymoontaha/soft_ComputerLab/blob/main/170104099.ipynb\" target=\"_parent\"><img src=\"https://colab.research.google.com/assets/colab-badge.svg\" alt=\"Open In Colab\"/></a>"
      ]
    },
    {
      "cell_type": "code",
      "metadata": {
        "id": "Mw2hlj-s5BiG"
      },
      "source": [
        "import numpy as np \n",
        "import pandas as pd \n",
        "import seaborn as sns\n",
        "import warnings\n",
        "warnings.filterwarnings(\"ignore\")\n",
        "import re\n",
        "\n",
        "import matplotlib.pyplot as plt\n",
        "from sklearn.metrics import accuracy_score\n",
        "from sklearn.metrics import precision_score\n",
        "from sklearn.metrics import recall_score\n",
        "from sklearn.metrics import f1_score\n",
        "from sklearn.metrics import confusion_matrix\n",
        "from sklearn.metrics import plot_confusion_matrix\n",
        "\n",
        "from tensorflow.keras.layers import Flatten\n",
        "from tensorflow.keras.layers import Conv1D\n",
        "from tensorflow.keras.layers import MaxPooling1D\n",
        "from tensorflow.keras.layers import Embedding,Dense,Dropout\n",
        "from tensorflow.keras.preprocessing.sequence import pad_sequences\n",
        "from tensorflow.keras.models import Sequential\n",
        "from tensorflow.keras.preprocessing.text import one_hot\n",
        "from nltk.stem.porter import PorterStemmer\n",
        "from nltk.corpus import stopwords\n",
        "import nltk"
      ],
      "execution_count": 1,
      "outputs": []
    },
    {
      "cell_type": "code",
      "metadata": {
        "colab": {
          "base_uri": "https://localhost:8080/"
        },
        "id": "CAA-Nq11-Tdz",
        "outputId": "75d3fc61-950d-486d-ee8e-b55369f07298"
      },
      "source": [
        "from google.colab import drive\n",
        "drive.mount('/content/drive')"
      ],
      "execution_count": 2,
      "outputs": [
        {
          "output_type": "stream",
          "name": "stdout",
          "text": [
            "Drive already mounted at /content/drive; to attempt to forcibly remount, call drive.mount(\"/content/drive\", force_remount=True).\n"
          ]
        }
      ]
    },
    {
      "cell_type": "markdown",
      "metadata": {
        "id": "XTxRs_3y_wrk"
      },
      "source": [
        "#Dataset Loading, Reading and Preprocessing"
      ]
    },
    {
      "cell_type": "code",
      "metadata": {
        "colab": {
          "base_uri": "https://localhost:8080/",
          "height": 206
        },
        "id": "4xWAwcvKDDCZ",
        "outputId": "202d7b54-92e0-41f1-d4ec-cacd714222d5"
      },
      "source": [
        "data = pd.read_csv('/content/drive/MyDrive/Colab Notebooks/SC_Assignments/Assignment_3_SoftComp/Dataset 1.csv',encoding=\"latin1\")\n",
        "data.head()"
      ],
      "execution_count": 3,
      "outputs": [
        {
          "output_type": "execute_result",
          "data": {
            "text/html": [
              "<div>\n",
              "<style scoped>\n",
              "    .dataframe tbody tr th:only-of-type {\n",
              "        vertical-align: middle;\n",
              "    }\n",
              "\n",
              "    .dataframe tbody tr th {\n",
              "        vertical-align: top;\n",
              "    }\n",
              "\n",
              "    .dataframe thead th {\n",
              "        text-align: right;\n",
              "    }\n",
              "</style>\n",
              "<table border=\"1\" class=\"dataframe\">\n",
              "  <thead>\n",
              "    <tr style=\"text-align: right;\">\n",
              "      <th></th>\n",
              "      <th>message</th>\n",
              "      <th>label</th>\n",
              "    </tr>\n",
              "  </thead>\n",
              "  <tbody>\n",
              "    <tr>\n",
              "      <th>0</th>\n",
              "      <td>just had a real good moment. i missssssssss hi...</td>\n",
              "      <td>0</td>\n",
              "    </tr>\n",
              "    <tr>\n",
              "      <th>1</th>\n",
              "      <td>is reading manga  http://plurk.com/p/mzp1e</td>\n",
              "      <td>0</td>\n",
              "    </tr>\n",
              "    <tr>\n",
              "      <th>2</th>\n",
              "      <td>@comeagainjen http://twitpic.com/2y2lx - http:...</td>\n",
              "      <td>0</td>\n",
              "    </tr>\n",
              "    <tr>\n",
              "      <th>3</th>\n",
              "      <td>@lapcat Need to send 'em to my accountant tomo...</td>\n",
              "      <td>0</td>\n",
              "    </tr>\n",
              "    <tr>\n",
              "      <th>4</th>\n",
              "      <td>ADD ME ON MYSPACE!!!  myspace.com/LookThunder</td>\n",
              "      <td>0</td>\n",
              "    </tr>\n",
              "  </tbody>\n",
              "</table>\n",
              "</div>"
            ],
            "text/plain": [
              "                                             message  label\n",
              "0  just had a real good moment. i missssssssss hi...      0\n",
              "1         is reading manga  http://plurk.com/p/mzp1e      0\n",
              "2  @comeagainjen http://twitpic.com/2y2lx - http:...      0\n",
              "3  @lapcat Need to send 'em to my accountant tomo...      0\n",
              "4      ADD ME ON MYSPACE!!!  myspace.com/LookThunder      0"
            ]
          },
          "metadata": {},
          "execution_count": 3
        }
      ]
    },
    {
      "cell_type": "code",
      "metadata": {
        "colab": {
          "base_uri": "https://localhost:8080/"
        },
        "id": "lRSlWpk6iACR",
        "outputId": "d0b196f1-7644-40d9-965b-52810684fb29"
      },
      "source": [
        "data['label'].value_counts()"
      ],
      "execution_count": 4,
      "outputs": [
        {
          "output_type": "execute_result",
          "data": {
            "text/plain": [
              "0    8000\n",
              "1    2314\n",
              "Name: label, dtype: int64"
            ]
          },
          "metadata": {},
          "execution_count": 4
        }
      ]
    },
    {
      "cell_type": "code",
      "metadata": {
        "colab": {
          "base_uri": "https://localhost:8080/",
          "height": 279
        },
        "id": "02RoOZbIAKBh",
        "outputId": "8f925566-6465-4e93-f192-05adba3269f2"
      },
      "source": [
        "plt.hist(data['label'],facecolor='g')\n",
        "plt.xlabel(\"label\")\n",
        "plt.ylabel(\"number of messages having that label\")\n",
        "plt.show()"
      ],
      "execution_count": 5,
      "outputs": [
        {
          "output_type": "display_data",
          "data": {
            "image/png": "[encoded data removed]",
            "text/plain": [
              "<Figure size 432x288 with 1 Axes>"
            ]
          },
          "metadata": {
            "needs_background": "light"
          }
        }
      ]
    },
    {
      "cell_type": "code",
      "metadata": {
        "id": "m3xSKCOTho1D",
        "colab": {
          "base_uri": "https://localhost:8080/",
          "height": 206
        },
        "outputId": "cdeca853-635f-4d34-d598-4e63232431f6"
      },
      "source": [
        "data[\"length\"]=data[\"message\"].apply(len)\n",
        "data.head(5)"
      ],
      "execution_count": 6,
      "outputs": [
        {
          "output_type": "execute_result",
          "data": {
            "text/html": [
              "<div>\n",
              "<style scoped>\n",
              "    .dataframe tbody tr th:only-of-type {\n",
              "        vertical-align: middle;\n",
              "    }\n",
              "\n",
              "    .dataframe tbody tr th {\n",
              "        vertical-align: top;\n",
              "    }\n",
              "\n",
              "    .dataframe thead th {\n",
              "        text-align: right;\n",
              "    }\n",
              "</style>\n",
              "<table border=\"1\" class=\"dataframe\">\n",
              "  <thead>\n",
              "    <tr style=\"text-align: right;\">\n",
              "      <th></th>\n",
              "      <th>message</th>\n",
              "      <th>label</th>\n",
              "      <th>length</th>\n",
              "    </tr>\n",
              "  </thead>\n",
              "  <tbody>\n",
              "    <tr>\n",
              "      <th>0</th>\n",
              "      <td>just had a real good moment. i missssssssss hi...</td>\n",
              "      <td>0</td>\n",
              "      <td>57</td>\n",
              "    </tr>\n",
              "    <tr>\n",
              "      <th>1</th>\n",
              "      <td>is reading manga  http://plurk.com/p/mzp1e</td>\n",
              "      <td>0</td>\n",
              "      <td>42</td>\n",
              "    </tr>\n",
              "    <tr>\n",
              "      <th>2</th>\n",
              "      <td>@comeagainjen http://twitpic.com/2y2lx - http:...</td>\n",
              "      <td>0</td>\n",
              "      <td>84</td>\n",
              "    </tr>\n",
              "    <tr>\n",
              "      <th>3</th>\n",
              "      <td>@lapcat Need to send 'em to my accountant tomo...</td>\n",
              "      <td>0</td>\n",
              "      <td>135</td>\n",
              "    </tr>\n",
              "    <tr>\n",
              "      <th>4</th>\n",
              "      <td>ADD ME ON MYSPACE!!!  myspace.com/LookThunder</td>\n",
              "      <td>0</td>\n",
              "      <td>45</td>\n",
              "    </tr>\n",
              "  </tbody>\n",
              "</table>\n",
              "</div>"
            ],
            "text/plain": [
              "                                             message  label  length\n",
              "0  just had a real good moment. i missssssssss hi...      0      57\n",
              "1         is reading manga  http://plurk.com/p/mzp1e      0      42\n",
              "2  @comeagainjen http://twitpic.com/2y2lx - http:...      0      84\n",
              "3  @lapcat Need to send 'em to my accountant tomo...      0     135\n",
              "4      ADD ME ON MYSPACE!!!  myspace.com/LookThunder      0      45"
            ]
          },
          "metadata": {},
          "execution_count": 6
        }
      ]
    },
    {
      "cell_type": "code",
      "metadata": {
        "colab": {
          "base_uri": "https://localhost:8080/",
          "height": 279
        },
        "id": "LMg26uKlAacC",
        "outputId": "9fadf22a-1cf1-4b3c-d1e0-b1d4ff123919"
      },
      "source": [
        "plt.hist(data['length'],facecolor='c')\n",
        "plt.xlabel(\"length\")\n",
        "plt.ylabel(\"number of messages having that length\")\n",
        "plt.show()"
      ],
      "execution_count": 7,
      "outputs": [
        {
          "output_type": "display_data",
          "data": {
            "image/png": "[encoded data removed]",
            "text/plain": [
              "<Figure size 432x288 with 1 Axes>"
            ]
          },
          "metadata": {
            "needs_background": "light"
          }
        }
      ]
    },
    {
      "cell_type": "code",
      "metadata": {
        "colab": {
          "base_uri": "https://localhost:8080/"
        },
        "id": "LplVQtnth5YG",
        "outputId": "7b517932-65a2-44a3-fd6b-b7f47fc8b6ed"
      },
      "source": [
        "nltk.download('stopwords')\n",
        "stop=stopwords.words(\"english\")"
      ],
      "execution_count": 8,
      "outputs": [
        {
          "output_type": "stream",
          "name": "stdout",
          "text": [
            "[nltk_data] Downloading package stopwords to /root/nltk_data...\n",
            "[nltk_data]   Package stopwords is already up-to-date!\n"
          ]
        }
      ]
    },
    {
      "cell_type": "code",
      "metadata": {
        "colab": {
          "base_uri": "https://localhost:8080/"
        },
        "id": "rb5aXzx5iGsZ",
        "outputId": "1995df38-5388-4d46-a2c4-271a22b39cea"
      },
      "source": [
        "print(stop)"
      ],
      "execution_count": 9,
      "outputs": [
        {
          "output_type": "stream",
          "name": "stdout",
          "text": [
            "['i', 'me', 'my', 'myself', 'we', 'our', 'ours', 'ourselves', 'you', \"you're\", \"you've\", \"you'll\", \"you'd\", 'your', 'yours', 'yourself', 'yourselves', 'he', 'him', 'his', 'himself', 'she', \"she's\", 'her', 'hers', 'herself', 'it', \"it's\", 'its', 'itself', 'they', 'them', 'their', 'theirs', 'themselves', 'what', 'which', 'who', 'whom', 'this', 'that', \"that'll\", 'these', 'those', 'am', 'is', 'are', 'was', 'were', 'be', 'been', 'being', 'have', 'has', 'had', 'having', 'do', 'does', 'did', 'doing', 'a', 'an', 'the', 'and', 'but', 'if', 'or', 'because', 'as', 'until', 'while', 'of', 'at', 'by', 'for', 'with', 'about', 'against', 'between', 'into', 'through', 'during', 'before', 'after', 'above', 'below', 'to', 'from', 'up', 'down', 'in', 'out', 'on', 'off', 'over', 'under', 'again', 'further', 'then', 'once', 'here', 'there', 'when', 'where', 'why', 'how', 'all', 'any', 'both', 'each', 'few', 'more', 'most', 'other', 'some', 'such', 'no', 'nor', 'not', 'only', 'own', 'same', 'so', 'than', 'too', 'very', 's', 't', 'can', 'will', 'just', 'don', \"don't\", 'should', \"should've\", 'now', 'd', 'll', 'm', 'o', 're', 've', 'y', 'ain', 'aren', \"aren't\", 'couldn', \"couldn't\", 'didn', \"didn't\", 'doesn', \"doesn't\", 'hadn', \"hadn't\", 'hasn', \"hasn't\", 'haven', \"haven't\", 'isn', \"isn't\", 'ma', 'mightn', \"mightn't\", 'mustn', \"mustn't\", 'needn', \"needn't\", 'shan', \"shan't\", 'shouldn', \"shouldn't\", 'wasn', \"wasn't\", 'weren', \"weren't\", 'won', \"won't\", 'wouldn', \"wouldn't\"]\n"
          ]
        }
      ]
    },
    {
      "cell_type": "code",
      "metadata": {
        "id": "gMNDR24jiPd9"
      },
      "source": [
        "def stop_words(df):\n",
        "    df['stopwords'] = df['message'].apply(lambda x: len([x for x in x.split() if x in stop]))\n",
        "    print(df[['message','stopwords']].head())\n",
        "\n",
        "def webAddressRemove(df):  \n",
        "    df['message'] = df['message'].apply(lambda x: \" \".join(x for x in x.split() if (x[0] != '@') & ('http' not in x)& ('.com' not in x) & ('re:' not in x)))\n",
        "    print(df['message'].head())\n",
        "\n",
        "def RemovePunctuation(df):\n",
        "    df['message'] = df['message'].str.replace('[^\\w\\s]','')\n",
        "    print(df['message'].head())"
      ],
      "execution_count": 10,
      "outputs": []
    },
    {
      "cell_type": "code",
      "metadata": {
        "colab": {
          "base_uri": "https://localhost:8080/"
        },
        "id": "uRCa0SG0icda",
        "outputId": "bb0dbec9-5639-48f4-e4c2-8250da1894b6"
      },
      "source": [
        "stop_words(data)"
      ],
      "execution_count": 11,
      "outputs": [
        {
          "output_type": "stream",
          "name": "stdout",
          "text": [
            "                                             message  stopwords\n",
            "0  just had a real good moment. i missssssssss hi...          6\n",
            "1         is reading manga  http://plurk.com/p/mzp1e          1\n",
            "2  @comeagainjen http://twitpic.com/2y2lx - http:...          0\n",
            "3  @lapcat Need to send 'em to my accountant tomo...          7\n",
            "4      ADD ME ON MYSPACE!!!  myspace.com/LookThunder          0\n"
          ]
        }
      ]
    },
    {
      "cell_type": "code",
      "metadata": {
        "colab": {
          "base_uri": "https://localhost:8080/"
        },
        "id": "kYni2V5zirTn",
        "outputId": "260c2d4a-1aa8-449a-804b-9d90e1c33b31"
      },
      "source": [
        "webAddressRemove(data)"
      ],
      "execution_count": 12,
      "outputs": [
        {
          "output_type": "stream",
          "name": "stdout",
          "text": [
            "0    just had a real good moment. i missssssssss hi...\n",
            "1                                     is reading manga\n",
            "2                                                    -\n",
            "3    Need to send 'em to my accountant tomorrow. Od...\n",
            "4                                 ADD ME ON MYSPACE!!!\n",
            "Name: message, dtype: object\n"
          ]
        }
      ]
    },
    {
      "cell_type": "code",
      "metadata": {
        "colab": {
          "base_uri": "https://localhost:8080/"
        },
        "id": "f4pIpp8Ti7bJ",
        "outputId": "f5e42273-b620-4714-9355-a5f14b9017f4"
      },
      "source": [
        "RemovePunctuation(data)"
      ],
      "execution_count": 13,
      "outputs": [
        {
          "output_type": "stream",
          "name": "stdout",
          "text": [
            "0    just had a real good moment i missssssssss him...\n",
            "1                                     is reading manga\n",
            "2                                                     \n",
            "3    Need to send em to my accountant tomorrow Oddl...\n",
            "4                                    ADD ME ON MYSPACE\n",
            "Name: message, dtype: object\n"
          ]
        }
      ]
    },
    {
      "cell_type": "code",
      "metadata": {
        "colab": {
          "base_uri": "https://localhost:8080/"
        },
        "id": "q7TNqfcojCF5",
        "outputId": "bdcf4de1-0c64-4db4-d268-fcb7af6c6f07"
      },
      "source": [
        "freq = pd.Series(' '.join(data['message']).split()).value_counts()[:20]\n",
        "freq"
      ],
      "execution_count": 14,
      "outputs": [
        {
          "output_type": "execute_result",
          "data": {
            "text/plain": [
              "to            3758\n",
              "the           3448\n",
              "a             2949\n",
              "I             2839\n",
              "and           2574\n",
              "you           2143\n",
              "depression    1807\n",
              "of            1778\n",
              "my            1705\n",
              "is            1659\n",
              "for           1594\n",
              "in            1459\n",
              "it            1453\n",
              "i             1174\n",
              "with          1103\n",
              "on            1020\n",
              "that          1017\n",
              "me             986\n",
              "have           886\n",
              "so             796\n",
              "dtype: int64"
            ]
          },
          "metadata": {},
          "execution_count": 14
        }
      ]
    },
    {
      "cell_type": "code",
      "metadata": {
        "colab": {
          "base_uri": "https://localhost:8080/"
        },
        "id": "T5UEdPG-F2pe",
        "outputId": "aa72cffe-eeb7-4923-8287-afecb368e7d9"
      },
      "source": [
        "freq = pd.Series(' '.join(data['message']).split()).value_counts()[:6]\n",
        "againFreq=pd.Series(' '.join(data['message']).split()).value_counts()[8:11]\n",
        "freq"
      ],
      "execution_count": 15,
      "outputs": [
        {
          "output_type": "execute_result",
          "data": {
            "text/plain": [
              "to     3758\n",
              "the    3448\n",
              "a      2949\n",
              "I      2839\n",
              "and    2574\n",
              "you    2143\n",
              "dtype: int64"
            ]
          },
          "metadata": {},
          "execution_count": 15
        }
      ]
    },
    {
      "cell_type": "code",
      "metadata": {
        "id": "PpW3rfziGpNG"
      },
      "source": [
        "againFreq=list(againFreq.index)"
      ],
      "execution_count": 16,
      "outputs": []
    },
    {
      "cell_type": "code",
      "metadata": {
        "colab": {
          "base_uri": "https://localhost:8080/"
        },
        "id": "bA0amRpKjIjh",
        "outputId": "2c26f894-cb01-4893-fb92-e09e25f610e7"
      },
      "source": [
        "freq = list(freq.index)\n",
        "freq.extend(againFreq)\n",
        "freq"
      ],
      "execution_count": 17,
      "outputs": [
        {
          "output_type": "execute_result",
          "data": {
            "text/plain": [
              "['to', 'the', 'a', 'I', 'and', 'you', 'my', 'is', 'for']"
            ]
          },
          "metadata": {},
          "execution_count": 17
        }
      ]
    },
    {
      "cell_type": "code",
      "metadata": {
        "id": "rj1oAZqhjdXR"
      },
      "source": [
        "#Removing the most frequent words from the dataset\n",
        "def frequent_words_removal(df):  \n",
        "    df['message'] = df['message'].apply(lambda x: \" \".join(x for x in x.split() if x not in freq))\n",
        "    print(df['message'].head(10))"
      ],
      "execution_count": 18,
      "outputs": []
    },
    {
      "cell_type": "code",
      "metadata": {
        "colab": {
          "base_uri": "https://localhost:8080/"
        },
        "id": "_4gisuYojkdP",
        "outputId": "822e6820-b3c8-44bf-948f-aea0a70ef947"
      },
      "source": [
        "frequent_words_removal(data)"
      ],
      "execution_count": 19,
      "outputs": [
        {
          "output_type": "stream",
          "name": "stdout",
          "text": [
            "0    just had real good moment i missssssssss him s...\n",
            "1                                        reading manga\n",
            "2                                                     \n",
            "3    Need send em accountant tomorrow Oddly wasnt e...\n",
            "4                                    ADD ME ON MYSPACE\n",
            "5                  so sleepy good times tonight though\n",
            "6    nbn as someone already said does fiber home me...\n",
            "7                    23 or 24ÃÂÂ½C possible today Nice\n",
            "8                 nite twitterville workout in am ciao\n",
            "9                            Night darlin Sweet dreams\n",
            "Name: message, dtype: object\n"
          ]
        }
      ]
    },
    {
      "cell_type": "code",
      "metadata": {
        "colab": {
          "base_uri": "https://localhost:8080/"
        },
        "id": "wOx4kw1rkOyy",
        "outputId": "43c675b2-e502-4a95-abec-a130689b9738"
      },
      "source": [
        "stop_words(data)"
      ],
      "execution_count": 20,
      "outputs": [
        {
          "output_type": "stream",
          "name": "stdout",
          "text": [
            "                                             message  stopwords\n",
            "0  just had real good moment i missssssssss him s...          5\n",
            "1                                      reading manga          0\n",
            "2                                                             0\n",
            "3  Need send em accountant tomorrow Oddly wasnt e...          1\n",
            "4                                  ADD ME ON MYSPACE          0\n"
          ]
        }
      ]
    },
    {
      "cell_type": "code",
      "metadata": {
        "id": "6X5_JFEJkaxk"
      },
      "source": [
        "stemmer=PorterStemmer()\n",
        "\n",
        "corpus=[]\n",
        "for i in range(len(data)):\n",
        "    #replacing everything other than alphabets with a space\n",
        "    message=re.sub(\"[^a-zA-Z]\",\" \",str(data[\"message\"][i]))\n",
        "    #Lowering the tweets\n",
        "    message=message.lower()\n",
        "    #Converting in a list\n",
        "    message=message.split()\n",
        "    #Finding and removing stopwords\n",
        "    message=[stemmer.stem(word) for word in message if not word in set(stopwords.words(\"english\"))]\n",
        "    #Joining after removal of stopwords\n",
        "    message=\" \".join(message)\n",
        "    corpus.append(message)"
      ],
      "execution_count": 22,
      "outputs": []
    },
    {
      "cell_type": "code",
      "metadata": {
        "colab": {
          "base_uri": "https://localhost:8080/"
        },
        "id": "RfFmCBfftNwb",
        "outputId": "782c152f-865e-4144-9767-917a8b0610fa"
      },
      "source": [
        "corpus[:20]"
      ],
      "execution_count": 23,
      "outputs": [
        {
          "output_type": "execute_result",
          "data": {
            "text/plain": [
              "['real good moment missssssssss much',\n",
              " 'read manga',\n",
              " '',\n",
              " 'need send em account tomorrow oddli wasnt even refer tax support evid though',\n",
              " 'add myspac',\n",
              " 'sleepi good time tonight though',\n",
              " 'nbn someon alreadi said fiber home mean least regular',\n",
              " 'c possibl today nice',\n",
              " 'nite twittervil workout ciao',\n",
              " 'night darlin sweet dream',\n",
              " 'good morn everybodi',\n",
              " 'final creat wordpress blog there alreadi blog seattl coffe commun',\n",
              " 'kisha cnt get u til get frm u rememb ur top',\n",
              " 'ye rememb band awesom pleas repli',\n",
              " 'realli love reflect shadow',\n",
              " 'ooo fantasi like fantasi novel check',\n",
              " 'prob sell noth blog ill get listen band itun',\n",
              " 'quotnokla connect peoplequot',\n",
              " 'stay late start earli good thing like job',\n",
              " 'read new job congratul that fantast']"
            ]
          },
          "metadata": {},
          "execution_count": 23
        }
      ]
    },
    {
      "cell_type": "code",
      "metadata": {
        "id": "KS0t6_S7tTzi"
      },
      "source": [
        "from sklearn.feature_extraction.text import TfidfVectorizer\n",
        "tfv=TfidfVectorizer()\n",
        "X=tfv.fit_transform(corpus).toarray()\n",
        "y=data[\"label\"]"
      ],
      "execution_count": 24,
      "outputs": []
    },
    {
      "cell_type": "code",
      "metadata": {
        "colab": {
          "base_uri": "https://localhost:8080/"
        },
        "id": "yB-JsNcCtgfs",
        "outputId": "9ffd9d34-5227-4f9a-9c1e-cfe436df3efd"
      },
      "source": [
        "vocab_size = 6500\n",
        "\n",
        "#one hot encoding\n",
        "one_hot_dir = [one_hot(words,vocab_size) for words in corpus]\n",
        "\n",
        "#length of all rows should be equal therefore applying padding\n",
        "#this will adjust size by adding 0 at staring of the shorter rows\n",
        "embedded_layer = pad_sequences(one_hot_dir,padding = 'pre')\n",
        "embedded_layer"
      ],
      "execution_count": 25,
      "outputs": [
        {
          "output_type": "execute_result",
          "data": {
            "text/plain": [
              "array([[   0,    0,    0, ..., 3595,  421,  593],\n",
              "       [   0,    0,    0, ...,    0, 5778, 3729],\n",
              "       [   0,    0,    0, ...,    0,    0,    0],\n",
              "       ...,\n",
              "       [   0,    0,    0, ..., 4492, 2973, 3363],\n",
              "       [   0,    0,    0, ..., 4492, 3436, 4394],\n",
              "       [   0,    0,    0, ...,    0,    0,    0]], dtype=int32)"
            ]
          },
          "metadata": {},
          "execution_count": 25
        }
      ]
    },
    {
      "cell_type": "code",
      "metadata": {
        "id": "Xih5zpn9tmqI"
      },
      "source": [
        "X = np.array(embedded_layer)\n",
        "y = np.array(y)"
      ],
      "execution_count": 26,
      "outputs": []
    },
    {
      "cell_type": "code",
      "metadata": {
        "id": "6b5dJlfCtoXe",
        "colab": {
          "base_uri": "https://localhost:8080/"
        },
        "outputId": "f5686f77-72b7-47bd-fc9e-a6ba9d80cf46"
      },
      "source": [
        "from sklearn.model_selection import train_test_split\n",
        "X_train,X_test,y_train,y_test=train_test_split(X,y,test_size=0.2,random_state=2)\n",
        "\n",
        "X_train.shape,y_train.shape"
      ],
      "execution_count": 27,
      "outputs": [
        {
          "output_type": "execute_result",
          "data": {
            "text/plain": [
              "((8251, 50), (8251,))"
            ]
          },
          "metadata": {},
          "execution_count": 27
        }
      ]
    },
    {
      "cell_type": "code",
      "metadata": {
        "colab": {
          "base_uri": "https://localhost:8080/"
        },
        "id": "LCgyY8O9twbw",
        "outputId": "bce34d33-988b-4d04-c02a-bdb75d19aff4"
      },
      "source": [
        "X_test.shape,y_test.shape"
      ],
      "execution_count": 28,
      "outputs": [
        {
          "output_type": "execute_result",
          "data": {
            "text/plain": [
              "((2063, 50), (2063,))"
            ]
          },
          "metadata": {},
          "execution_count": 28
        }
      ]
    },
    {
      "cell_type": "code",
      "metadata": {
        "colab": {
          "base_uri": "https://localhost:8080/"
        },
        "id": "9nFxZZx5t5ry",
        "outputId": "fd613476-e9d2-4540-ded2-8926f5c43746"
      },
      "source": [
        "# create the model\n",
        "embed_vec_length = 32\n",
        "model = Sequential()\n",
        "model.add(Embedding(vocab_size,embed_vec_length,input_length = len(X_train[0])))\n",
        "model.add(Conv1D(filters=128, kernel_size=4, padding='same', activation='relu'))\n",
        "model.add(MaxPooling1D(pool_size=2))\n",
        "model.add(Conv1D(filters=64, kernel_size=4, padding='same', activation='relu'))\n",
        "model.add(MaxPooling1D(pool_size=2))\n",
        "model.add(Conv1D(filters=32, kernel_size=4, padding='same', activation='relu'))\n",
        "model.add(MaxPooling1D(pool_size=2))\n",
        "model.add(Flatten())\n",
        "model.add(Dense(256, activation='relu'))\n",
        "model.add(Dense(1, activation='sigmoid'))\n",
        "model.compile(loss='binary_crossentropy', optimizer='adam', metrics=['accuracy'])\n",
        "model.summary()"
      ],
      "execution_count": 29,
      "outputs": [
        {
          "output_type": "stream",
          "name": "stdout",
          "text": [
            "Model: \"sequential\"\n",
            "_________________________________________________________________\n",
            "Layer (type)                 Output Shape              Param #   \n",
            "=================================================================\n",
            "embedding (Embedding)        (None, 50, 32)            208000    \n",
            "_________________________________________________________________\n",
            "conv1d (Conv1D)              (None, 50, 128)           16512     \n",
            "_________________________________________________________________\n",
            "max_pooling1d (MaxPooling1D) (None, 25, 128)           0         \n",
            "_________________________________________________________________\n",
            "conv1d_1 (Conv1D)            (None, 25, 64)            32832     \n",
            "_________________________________________________________________\n",
            "max_pooling1d_1 (MaxPooling1 (None, 12, 64)            0         \n",
            "_________________________________________________________________\n",
            "conv1d_2 (Conv1D)            (None, 12, 32)            8224      \n",
            "_________________________________________________________________\n",
            "max_pooling1d_2 (MaxPooling1 (None, 6, 32)             0         \n",
            "_________________________________________________________________\n",
            "flatten (Flatten)            (None, 192)               0         \n",
            "_________________________________________________________________\n",
            "dense (Dense)                (None, 256)               49408     \n",
            "_________________________________________________________________\n",
            "dense_1 (Dense)              (None, 1)                 257       \n",
            "=================================================================\n",
            "Total params: 315,233\n",
            "Trainable params: 315,233\n",
            "Non-trainable params: 0\n",
            "_________________________________________________________________\n"
          ]
        }
      ]
    },
    {
      "cell_type": "code",
      "metadata": {
        "colab": {
          "base_uri": "https://localhost:8080/"
        },
        "id": "G2UlwAbvvawz",
        "outputId": "5b46478c-0329-4759-d448-350df554200e"
      },
      "source": [
        "history = model.fit(X_train, y_train, validation_data = (X_test,y_test), epochs = 8, batch_size = 128)"
      ],
      "execution_count": 30,
      "outputs": [
        {
          "output_type": "stream",
          "name": "stdout",
          "text": [
            "Epoch 1/8\n",
            "65/65 [==============================] - 4s 19ms/step - loss: 0.4027 - accuracy: 0.8321 - val_loss: 0.0609 - val_accuracy: 0.9845\n",
            "Epoch 2/8\n",
            "65/65 [==============================] - 1s 12ms/step - loss: 0.0325 - accuracy: 0.9914 - val_loss: 0.0535 - val_accuracy: 0.9879\n",
            "Epoch 3/8\n",
            "65/65 [==============================] - 1s 11ms/step - loss: 0.0111 - accuracy: 0.9978 - val_loss: 0.0692 - val_accuracy: 0.9859\n",
            "Epoch 4/8\n",
            "65/65 [==============================] - 1s 11ms/step - loss: 0.0061 - accuracy: 0.9988 - val_loss: 0.0749 - val_accuracy: 0.9850\n",
            "Epoch 5/8\n",
            "65/65 [==============================] - 1s 11ms/step - loss: 0.0035 - accuracy: 0.9993 - val_loss: 0.0784 - val_accuracy: 0.9850\n",
            "Epoch 6/8\n",
            "65/65 [==============================] - 1s 11ms/step - loss: 0.0029 - accuracy: 0.9993 - val_loss: 0.0839 - val_accuracy: 0.9855\n",
            "Epoch 7/8\n",
            "65/65 [==============================] - 1s 11ms/step - loss: 0.0025 - accuracy: 0.9993 - val_loss: 0.1011 - val_accuracy: 0.9855\n",
            "Epoch 8/8\n",
            "65/65 [==============================] - 1s 11ms/step - loss: 0.0023 - accuracy: 0.9993 - val_loss: 0.0930 - val_accuracy: 0.9864\n"
          ]
        }
      ]
    },
    {
      "cell_type": "code",
      "metadata": {
        "id": "WFBU7Hkivt2e",
        "colab": {
          "base_uri": "https://localhost:8080/"
        },
        "outputId": "92bedea7-0c95-439e-a116-58f922cc5565"
      },
      "source": [
        "model.save('/content/')"
      ],
      "execution_count": 31,
      "outputs": [
        {
          "output_type": "stream",
          "name": "stdout",
          "text": [
            "INFO:tensorflow:Assets written to: /content/assets\n"
          ]
        }
      ]
    },
    {
      "cell_type": "code",
      "metadata": {
        "id": "VMuHKfa4vzy5"
      },
      "source": [
        "import matplotlib.pyplot as plt\n",
        "\n",
        "def plot_graphs(history, string):\n",
        "    plt.plot(history.history[string])\n",
        "    plt.plot(history.history['val_'+string])\n",
        "    plt.xlabel(\"Epoch\")\n",
        "    plt.ylabel(string)\n",
        "    plt.legend([string, 'val_'+string])\n",
        "    plt.show()"
      ],
      "execution_count": 32,
      "outputs": []
    },
    {
      "cell_type": "code",
      "metadata": {
        "colab": {
          "base_uri": "https://localhost:8080/",
          "height": 279
        },
        "id": "4TtWHgUvv6Q9",
        "outputId": "f403f392-d194-41f0-fc4e-28af9713ab72"
      },
      "source": [
        "plot_graphs(history, \"accuracy\")"
      ],
      "execution_count": 33,
      "outputs": [
        {
          "output_type": "display_data",
          "data": {
            "image/png": "[encoded data removed]",
            "text/plain": [
              "<Figure size 432x288 with 1 Axes>"
            ]
          },
          "metadata": {
            "needs_background": "light"
          }
        }
      ]
    },
    {
      "cell_type": "code",
      "metadata": {
        "colab": {
          "base_uri": "https://localhost:8080/",
          "height": 279
        },
        "id": "7-76GcJzv_iq",
        "outputId": "85950285-911d-4a3a-bc04-64298f2b67d8"
      },
      "source": [
        "plot_graphs(history, \"loss\")"
      ],
      "execution_count": 34,
      "outputs": [
        {
          "output_type": "display_data",
          "data": {
            "image/png": "[encoded data removed]",
            "text/plain": [
              "<Figure size 432x288 with 1 Axes>"
            ]
          },
          "metadata": {
            "needs_background": "light"
          }
        }
      ]
    },
    {
      "cell_type": "code",
      "metadata": {
        "id": "hF-Lb4l9wKNx"
      },
      "source": [
        "y_pred = model.predict(X_test)\n",
        "y_pred = (y_pred > 0.5)"
      ],
      "execution_count": 35,
      "outputs": []
    },
    {
      "cell_type": "code",
      "metadata": {
        "colab": {
          "base_uri": "https://localhost:8080/"
        },
        "id": "bouTwY4_wQ-f",
        "outputId": "5a7514b9-beb9-4aad-f341-a59650721549"
      },
      "source": [
        "len(y_pred)"
      ],
      "execution_count": 36,
      "outputs": [
        {
          "output_type": "execute_result",
          "data": {
            "text/plain": [
              "2063"
            ]
          },
          "metadata": {},
          "execution_count": 36
        }
      ]
    },
    {
      "cell_type": "code",
      "metadata": {
        "colab": {
          "base_uri": "https://localhost:8080/"
        },
        "id": "bwNno9nawVky",
        "outputId": "6d0d4a9b-59a2-44f7-c302-35ff3f6bb51b"
      },
      "source": [
        "from sklearn.metrics import confusion_matrix\n",
        "confusion_matrix(y_test,y_pred)"
      ],
      "execution_count": 37,
      "outputs": [
        {
          "output_type": "execute_result",
          "data": {
            "text/plain": [
              "array([[1588,    6],\n",
              "       [  22,  447]])"
            ]
          },
          "metadata": {},
          "execution_count": 37
        }
      ]
    },
    {
      "cell_type": "code",
      "metadata": {
        "colab": {
          "base_uri": "https://localhost:8080/"
        },
        "id": "BW32nmFCwhDg",
        "outputId": "3ef9697a-da67-4eb7-fe5e-cc36280872bd"
      },
      "source": [
        "# accuracy: (tp + tn) / (p + n)\n",
        "accuracy = accuracy_score(y_test,y_pred)\n",
        "print('Accuracy: %f' % accuracy)\n",
        "\n",
        "# precision tp / (tp + fp)\n",
        "precision = precision_score(y_test,y_pred)\n",
        "print('Precision: %f' % precision)\n",
        "\n",
        "# recall: tp / (tp + fn)\n",
        "recall = recall_score(y_test,y_pred)\n",
        "print('Recall: %f' % recall)\n",
        "\n",
        "# f1: 2 tp / (2 tp + fp + fn)\n",
        "f1 = f1_score(y_test,y_pred)\n",
        "print('F1 score: %f' % f1)\n",
        "\n",
        "# confusion matrix\n",
        "matrix = confusion_matrix(y_test,y_pred)\n",
        "print(matrix)"
      ],
      "execution_count": 38,
      "outputs": [
        {
          "output_type": "stream",
          "name": "stdout",
          "text": [
            "Accuracy: 0.986428\n",
            "Precision: 0.986755\n",
            "Recall: 0.953092\n",
            "F1 score: 0.969631\n",
            "[[1588    6]\n",
            " [  22  447]]\n"
          ]
        }
      ]
    },
    {
      "cell_type": "code",
      "metadata": {
        "colab": {
          "base_uri": "https://localhost:8080/",
          "height": 285
        },
        "id": "kO5hXwR0wuCh",
        "outputId": "2bf59932-412b-41dd-d4d8-5656ee98bb77"
      },
      "source": [
        "import seaborn as sns\n",
        "sns.set()\n",
        "scores = ['accuracy','precision','recall','f1']\n",
        "values = [accuracy,precision,recall,f1]\n",
        "sns.barplot(x=scores,y=values)"
      ],
      "execution_count": 39,
      "outputs": [
        {
          "output_type": "execute_result",
          "data": {
            "text/plain": [
              "<matplotlib.axes._subplots.AxesSubplot at 0x7f35d3cee710>"
            ]
          },
          "metadata": {},
          "execution_count": 39
        },
        {
          "output_type": "display_data",
          "data": {
            "image/png": "[encoded data removed]",
            "text/plain": [
              "<Figure size 432x288 with 1 Axes>"
            ]
          },
          "metadata": {}
        }
      ]
    },
    {
      "cell_type": "code",
      "metadata": {
        "colab": {
          "base_uri": "https://localhost:8080/",
          "height": 285
        },
        "id": "FylypW2swxWp",
        "outputId": "ad43d8be-4eca-401d-b377-ff463a88e13e"
      },
      "source": [
        "sns.heatmap(matrix, annot=True, fmt=\"d\", cmap =\"YlGnBu\") # font size\n",
        "plt.xlabel(\"Predicted label\") \n",
        "plt.ylabel(\"True label\") \n",
        "plt.show()"
      ],
      "execution_count": 40,
      "outputs": [
        {
          "output_type": "display_data",
          "data": {
            "image/png": "[encoded data removed]",
            "text/plain": [
              "<Figure size 432x288 with 2 Axes>"
            ]
          },
          "metadata": {}
        }
      ]
    },
    {
      "cell_type": "code",
      "metadata": {
        "id": "EcDSn9CLRmTQ"
      },
      "source": [
        "import tensorflow as tf\n",
        "def predict_sentiment(text):\n",
        "  review=re.sub(\"[^a-zA-Z]\",\" \",str(text))\n",
        "  #Lowering the tweets\n",
        "  review=review.lower()\n",
        "  #Converting in a list\n",
        "  review=review.split()\n",
        "  #Finding and removing stopwords\n",
        "  review=[stemmer.stem(word) for word in review if not word in set(stopwords.words(\"english\"))]\n",
        "  #Joining after removal of stopwords\n",
        "  review=\" \".join(review)\n",
        "  # print(\"here===\",review)\n",
        "  one_hot_dir = [one_hot(words,vocab_size) for words in [review]]\n",
        "\n",
        "  #length of all rows should be equal therefore applying padding\n",
        "  #this will adjust size by adding 0 at staring of the shorter rows\n",
        "  embedded_layer = pad_sequences(one_hot_dir,padding = 'pre')\n",
        "  \n",
        "  embedded_layer = np.array(embedded_layer)\n",
        "  output = model(embedded_layer)\n",
        "  prediction = output.numpy()\n",
        "  prediction = prediction[0][0]\n",
        "  print(prediction)\n",
        "  \n",
        "  if prediction > 0.5:\n",
        "    print(f'{prediction:0.3}: Label 1')\n",
        "    return 1\n",
        "  else:\n",
        "    print(f'{prediction:0.3}: Label 0')\n",
        "    return 0"
      ],
      "execution_count": 43,
      "outputs": []
    },
    {
      "cell_type": "code",
      "metadata": {
        "id": "XusrlgKfZS9i"
      },
      "source": [
        "TextTest = \"I really love reflections and shadows\"\n",
        "predict_sentiment(TextTest)"
      ],
      "execution_count": null,
      "outputs": []
    }
  ]
}